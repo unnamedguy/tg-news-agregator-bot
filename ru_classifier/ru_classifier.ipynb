{
 "cells": [
  {
   "cell_type": "code",
   "execution_count": 1,
   "id": "recovered-fault",
   "metadata": {},
   "outputs": [],
   "source": [
    "import pickle\n",
    "import pandas as pd\n",
    "from sklearn.feature_extraction.text import CountVectorizer\n",
    "from sklearn.feature_extraction.text import TfidfTransformer\n",
    "from sklearn.model_selection import train_test_split\n",
    "from sklearn.neural_network import MLPClassifier\n",
    "from sklearn.metrics import accuracy_score"
   ]
  },
  {
   "cell_type": "code",
   "execution_count": 2,
   "id": "complimentary-metabolism",
   "metadata": {},
   "outputs": [],
   "source": [
    "df = pd.DataFrame()\n",
    "for chunk in pd.read_csv('lenta-ru-news.csv', sep=',', chunksize=10000):\n",
    "    df = pd.concat([df, chunk], ignore_index=True)\n",
    "    "
   ]
  },
  {
   "cell_type": "code",
   "execution_count": 3,
   "id": "piano-qatar",
   "metadata": {
    "scrolled": false
   },
   "outputs": [],
   "source": [
    "df=df.dropna()"
   ]
  },
  {
   "cell_type": "code",
   "execution_count": 75,
   "id": "finished-activity",
   "metadata": {},
   "outputs": [
    {
     "data": {
      "text/html": [
       "<div>\n",
       "<style scoped>\n",
       "    .dataframe tbody tr th:only-of-type {\n",
       "        vertical-align: middle;\n",
       "    }\n",
       "\n",
       "    .dataframe tbody tr th {\n",
       "        vertical-align: top;\n",
       "    }\n",
       "\n",
       "    .dataframe thead th {\n",
       "        text-align: right;\n",
       "    }\n",
       "</style>\n",
       "<table border=\"1\" class=\"dataframe\">\n",
       "  <thead>\n",
       "    <tr style=\"text-align: right;\">\n",
       "      <th></th>\n",
       "      <th>url</th>\n",
       "      <th>title</th>\n",
       "      <th>text</th>\n",
       "      <th>tags</th>\n",
       "      <th>date</th>\n",
       "    </tr>\n",
       "    <tr>\n",
       "      <th>topic</th>\n",
       "      <th></th>\n",
       "      <th></th>\n",
       "      <th></th>\n",
       "      <th></th>\n",
       "      <th></th>\n",
       "    </tr>\n",
       "  </thead>\n",
       "  <tbody>\n",
       "    <tr>\n",
       "      <th>69-я параллель</th>\n",
       "      <td>1268</td>\n",
       "      <td>1268</td>\n",
       "      <td>1268</td>\n",
       "      <td>1268</td>\n",
       "      <td>1268</td>\n",
       "    </tr>\n",
       "    <tr>\n",
       "      <th>Библиотека</th>\n",
       "      <td>65</td>\n",
       "      <td>65</td>\n",
       "      <td>65</td>\n",
       "      <td>65</td>\n",
       "      <td>65</td>\n",
       "    </tr>\n",
       "    <tr>\n",
       "      <th>Бизнес</th>\n",
       "      <td>7375</td>\n",
       "      <td>7375</td>\n",
       "      <td>7375</td>\n",
       "      <td>7375</td>\n",
       "      <td>7375</td>\n",
       "    </tr>\n",
       "    <tr>\n",
       "      <th>Бывший СССР</th>\n",
       "      <td>51370</td>\n",
       "      <td>51370</td>\n",
       "      <td>51370</td>\n",
       "      <td>51370</td>\n",
       "      <td>51370</td>\n",
       "    </tr>\n",
       "    <tr>\n",
       "      <th>Дом</th>\n",
       "      <td>21734</td>\n",
       "      <td>21734</td>\n",
       "      <td>21734</td>\n",
       "      <td>21734</td>\n",
       "      <td>21734</td>\n",
       "    </tr>\n",
       "    <tr>\n",
       "      <th>Из жизни</th>\n",
       "      <td>27513</td>\n",
       "      <td>27513</td>\n",
       "      <td>27513</td>\n",
       "      <td>27513</td>\n",
       "      <td>27513</td>\n",
       "    </tr>\n",
       "    <tr>\n",
       "      <th>Интернет и СМИ</th>\n",
       "      <td>44421</td>\n",
       "      <td>44421</td>\n",
       "      <td>44421</td>\n",
       "      <td>44421</td>\n",
       "      <td>44421</td>\n",
       "    </tr>\n",
       "    <tr>\n",
       "      <th>Крым</th>\n",
       "      <td>666</td>\n",
       "      <td>666</td>\n",
       "      <td>666</td>\n",
       "      <td>666</td>\n",
       "      <td>666</td>\n",
       "    </tr>\n",
       "    <tr>\n",
       "      <th>Культпросвет</th>\n",
       "      <td>340</td>\n",
       "      <td>340</td>\n",
       "      <td>340</td>\n",
       "      <td>340</td>\n",
       "      <td>340</td>\n",
       "    </tr>\n",
       "    <tr>\n",
       "      <th>Культура</th>\n",
       "      <td>53530</td>\n",
       "      <td>53530</td>\n",
       "      <td>53530</td>\n",
       "      <td>53530</td>\n",
       "      <td>53530</td>\n",
       "    </tr>\n",
       "    <tr>\n",
       "      <th>Легпром</th>\n",
       "      <td>114</td>\n",
       "      <td>114</td>\n",
       "      <td>114</td>\n",
       "      <td>114</td>\n",
       "      <td>114</td>\n",
       "    </tr>\n",
       "    <tr>\n",
       "      <th>МедНовости</th>\n",
       "      <td>1</td>\n",
       "      <td>1</td>\n",
       "      <td>1</td>\n",
       "      <td>1</td>\n",
       "      <td>1</td>\n",
       "    </tr>\n",
       "    <tr>\n",
       "      <th>Мир</th>\n",
       "      <td>136620</td>\n",
       "      <td>136620</td>\n",
       "      <td>136620</td>\n",
       "      <td>136620</td>\n",
       "      <td>136620</td>\n",
       "    </tr>\n",
       "    <tr>\n",
       "      <th>Наука и техника</th>\n",
       "      <td>53136</td>\n",
       "      <td>53136</td>\n",
       "      <td>53136</td>\n",
       "      <td>53136</td>\n",
       "      <td>53136</td>\n",
       "    </tr>\n",
       "    <tr>\n",
       "      <th>Оружие</th>\n",
       "      <td>3</td>\n",
       "      <td>3</td>\n",
       "      <td>3</td>\n",
       "      <td>3</td>\n",
       "      <td>3</td>\n",
       "    </tr>\n",
       "    <tr>\n",
       "      <th>Путешествия</th>\n",
       "      <td>6370</td>\n",
       "      <td>6370</td>\n",
       "      <td>6370</td>\n",
       "      <td>6370</td>\n",
       "      <td>6370</td>\n",
       "    </tr>\n",
       "    <tr>\n",
       "      <th>Россия</th>\n",
       "      <td>155004</td>\n",
       "      <td>155004</td>\n",
       "      <td>155004</td>\n",
       "      <td>155004</td>\n",
       "      <td>155004</td>\n",
       "    </tr>\n",
       "    <tr>\n",
       "      <th>Силовые структуры</th>\n",
       "      <td>11223</td>\n",
       "      <td>11223</td>\n",
       "      <td>11223</td>\n",
       "      <td>11223</td>\n",
       "      <td>11223</td>\n",
       "    </tr>\n",
       "    <tr>\n",
       "      <th>Сочи</th>\n",
       "      <td>1</td>\n",
       "      <td>1</td>\n",
       "      <td>1</td>\n",
       "      <td>1</td>\n",
       "      <td>1</td>\n",
       "    </tr>\n",
       "    <tr>\n",
       "      <th>Спорт</th>\n",
       "      <td>57894</td>\n",
       "      <td>57894</td>\n",
       "      <td>57894</td>\n",
       "      <td>57894</td>\n",
       "      <td>57894</td>\n",
       "    </tr>\n",
       "    <tr>\n",
       "      <th>Ценности</th>\n",
       "      <td>7581</td>\n",
       "      <td>7581</td>\n",
       "      <td>7581</td>\n",
       "      <td>7581</td>\n",
       "      <td>7581</td>\n",
       "    </tr>\n",
       "    <tr>\n",
       "      <th>ЧМ-2014</th>\n",
       "      <td>2</td>\n",
       "      <td>2</td>\n",
       "      <td>2</td>\n",
       "      <td>2</td>\n",
       "      <td>2</td>\n",
       "    </tr>\n",
       "    <tr>\n",
       "      <th>Экономика</th>\n",
       "      <td>76423</td>\n",
       "      <td>76423</td>\n",
       "      <td>76423</td>\n",
       "      <td>76423</td>\n",
       "      <td>76423</td>\n",
       "    </tr>\n",
       "  </tbody>\n",
       "</table>\n",
       "</div>"
      ],
      "text/plain": [
       "                      url   title    text    tags    date\n",
       "topic                                                    \n",
       "69-я параллель       1268    1268    1268    1268    1268\n",
       "Библиотека             65      65      65      65      65\n",
       "Бизнес               7375    7375    7375    7375    7375\n",
       "Бывший СССР         51370   51370   51370   51370   51370\n",
       "Дом                 21734   21734   21734   21734   21734\n",
       "Из жизни            27513   27513   27513   27513   27513\n",
       "Интернет и СМИ      44421   44421   44421   44421   44421\n",
       "Крым                  666     666     666     666     666\n",
       "Культпросвет          340     340     340     340     340\n",
       "Культура            53530   53530   53530   53530   53530\n",
       "Легпром               114     114     114     114     114\n",
       "МедНовости              1       1       1       1       1\n",
       "Мир                136620  136620  136620  136620  136620\n",
       "Наука и техника     53136   53136   53136   53136   53136\n",
       "Оружие                  3       3       3       3       3\n",
       "Путешествия          6370    6370    6370    6370    6370\n",
       "Россия             155004  155004  155004  155004  155004\n",
       "Силовые структуры   11223   11223   11223   11223   11223\n",
       "Сочи                    1       1       1       1       1\n",
       "Спорт               57894   57894   57894   57894   57894\n",
       "Ценности             7581    7581    7581    7581    7581\n",
       "ЧМ-2014                 2       2       2       2       2\n",
       "Экономика           76423   76423   76423   76423   76423"
      ]
     },
     "execution_count": 75,
     "metadata": {},
     "output_type": "execute_result"
    }
   ],
   "source": [
    "df.groupby('topic').count()"
   ]
  },
  {
   "cell_type": "code",
   "execution_count": 4,
   "id": "genetic-conflict",
   "metadata": {},
   "outputs": [],
   "source": [
    "df_topic_index = df.set_index('topic')\n",
    "df_drop = df_topic_index.drop(['69-я параллель', 'Библиотека', 'Бывший СССР', 'Дом', 'Из жизни', 'Крым', \n",
    "                               'МедНовости', 'Оружие', 'Путешествия', 'Силовые структуры', 'Сочи', \n",
    "                               'Ценности', 'ЧМ-2014', 'Культпросвет ', 'Легпром', 'Экономика'], inplace=False)"
   ]
  },
  {
   "cell_type": "code",
   "execution_count": 5,
   "id": "valued-minute",
   "metadata": {},
   "outputs": [],
   "source": [
    "df_index = df_drop.reset_index()\n",
    "training_data = df_index.drop(['url', 'tags', 'date'], axis=1)\n",
    "training_data['topic'] = training_data['topic'].astype('category')\n",
    "training_data['topic'] = training_data['topic'].cat.codes\n",
    "training_data.rename(columns={'topic':'flag'}, inplace=True)\n",
    "training_data_title = training_data.drop('text', axis=1)\n",
    "training_data_text = training_data.drop('title', axis=1)\n",
    "\n",
    "training_data_title['title']  = training_data_title['title'].replace({'\"':''}, regex=True)\n",
    "training_data_text['text']  = training_data_text['text'].replace({'\"':''}, regex=True)\n",
    "\n",
    "training_data_title.to_csv('training_data_title.csv', sep=',', encoding='utf-8')\n",
    "training_data_text.to_csv('training_data_text.csv', sep=',', encoding='utf-8')"
   ]
  },
  {
   "cell_type": "code",
   "execution_count": 6,
   "id": "standing-heater",
   "metadata": {},
   "outputs": [],
   "source": [
    "count_vect_title = CountVectorizer()\n",
    "count_vect_text = CountVectorizer()\n",
    "\n",
    "x_title_train_counts = count_vect_title.fit_transform(training_data_title.title)\n",
    "x_text_train_counts = count_vect_text.fit_transform(training_data_text.text)\n",
    "\n",
    "pickle.dump(count_vect_title.vocabulary_, open(\"count_vector_title.pkl\",\"wb\"))\n",
    "pickle.dump(count_vect_text.vocabulary_, open(\"count_vector_text.pkl\",\"wb\"))"
   ]
  },
  {
   "cell_type": "code",
   "execution_count": 7,
   "id": "cardiovascular-sierra",
   "metadata": {},
   "outputs": [],
   "source": [
    "tfidf_transformer_title = TfidfTransformer()\n",
    "tfidf_transformer_text = TfidfTransformer()\n",
    "\n",
    "x_title_train_tfidf = tfidf_transformer_title.fit_transform(x_title_train_counts)\n",
    "x_text_train_tfidf = tfidf_transformer_text.fit_transform(x_text_train_counts)\n",
    "\n",
    "pickle.dump(tfidf_transformer_title, open(\"tfidf_title.pkl\",\"wb\"))\n",
    "pickle.dump(tfidf_transformer_text, open(\"tfidf_text.pkl\",\"wb\"))"
   ]
  },
  {
   "cell_type": "code",
   "execution_count": 8,
   "id": "communist-hostel",
   "metadata": {},
   "outputs": [],
   "source": [
    "clf_neural_title = MLPClassifier(solver='lbfgs', alpha=1e-5, hidden_layer_sizes=(15,), random_state=1, max_iter=200)\n",
    "clf_neural_text = MLPClassifier(solver='lbfgs', alpha=1e-5, hidden_layer_sizes=(15,), random_state=1, max_iter=100)\n",
    "\n",
    "x_title_train, x_title_test, y_title_train, y_title_test = train_test_split(x_title_train_tfidf, training_data_title.flag, test_size=0.25, random_state=42)\n",
    "x_text_train, x_text_test, y_text_train, y_text_test = train_test_split(x_text_train_tfidf, training_data_text.flag, test_size=0.25, random_state=42)"
   ]
  },
  {
   "cell_type": "code",
   "execution_count": 9,
   "id": "atlantic-devil",
   "metadata": {},
   "outputs": [
    {
     "name": "stderr",
     "output_type": "stream",
     "text": [
      "c:\\users\\ivan\\appdata\\local\\programs\\python\\python39\\lib\\site-packages\\sklearn\\neural_network\\_multilayer_perceptron.py:500: ConvergenceWarning: lbfgs failed to converge (status=1):\n",
      "STOP: TOTAL NO. of ITERATIONS REACHED LIMIT.\n",
      "\n",
      "Increase the number of iterations (max_iter) or scale the data as shown in:\n",
      "    https://scikit-learn.org/stable/modules/preprocessing.html\n",
      "  self.n_iter_ = _check_optimize_result(\"lbfgs\", opt_res, self.max_iter)\n"
     ]
    },
    {
     "data": {
      "text/plain": [
       "MLPClassifier(alpha=1e-05, hidden_layer_sizes=(15,), random_state=1,\n",
       "              solver='lbfgs')"
      ]
     },
     "execution_count": 9,
     "metadata": {},
     "output_type": "execute_result"
    }
   ],
   "source": [
    "clf_neural_title.fit(x_title_train, y_title_train)"
   ]
  },
  {
   "cell_type": "code",
   "execution_count": 10,
   "id": "civil-therapy",
   "metadata": {},
   "outputs": [
    {
     "name": "stderr",
     "output_type": "stream",
     "text": [
      "c:\\users\\ivan\\appdata\\local\\programs\\python\\python39\\lib\\site-packages\\sklearn\\neural_network\\_multilayer_perceptron.py:500: ConvergenceWarning: lbfgs failed to converge (status=1):\n",
      "STOP: TOTAL NO. of ITERATIONS REACHED LIMIT.\n",
      "\n",
      "Increase the number of iterations (max_iter) or scale the data as shown in:\n",
      "    https://scikit-learn.org/stable/modules/preprocessing.html\n",
      "  self.n_iter_ = _check_optimize_result(\"lbfgs\", opt_res, self.max_iter)\n"
     ]
    },
    {
     "data": {
      "text/plain": [
       "MLPClassifier(alpha=1e-05, hidden_layer_sizes=(15,), max_iter=100,\n",
       "              random_state=1, solver='lbfgs')"
      ]
     },
     "execution_count": 10,
     "metadata": {},
     "output_type": "execute_result"
    }
   ],
   "source": [
    "clf_neural_text.fit(x_text_train, y_text_train)"
   ]
  },
  {
   "cell_type": "code",
   "execution_count": 11,
   "id": "single-sacramento",
   "metadata": {},
   "outputs": [],
   "source": [
    "pickle.dump(clf_neural_title, open(\"softmax_title.pkl\", \"wb\"))"
   ]
  },
  {
   "cell_type": "code",
   "execution_count": 12,
   "id": "intense-january",
   "metadata": {},
   "outputs": [],
   "source": [
    "pickle.dump(clf_neural_text, open(\"softmax_text.pkl\", \"wb\"))"
   ]
  },
  {
   "cell_type": "code",
   "execution_count": 13,
   "id": "toxic-medicaid",
   "metadata": {},
   "outputs": [],
   "source": [
    "category_list = ['Бизнес', 'Интернет и СМИ', 'Культура', 'Мир', 'Наука и техника', 'Россия', 'Спорт']"
   ]
  },
  {
   "cell_type": "code",
   "execution_count": 14,
   "id": "proved-scanning",
   "metadata": {},
   "outputs": [
    {
     "name": "stdout",
     "output_type": "stream",
     "text": [
      "0.8322768612937517\n"
     ]
    }
   ],
   "source": [
    "predicted_title = clf_neural_title.predict(x_title_test)\n",
    "result_softmax_title = pd.DataFrame( {'true_labels': y_title_test,'predicted_labels': predicted_title})\n",
    "result_softmax_title.to_csv('res_softmax_title.csv', sep = ',')\n",
    "\n",
    "score_title = accuracy_score(y_title_test, predicted_title)\n",
    "print(score_title)  "
   ]
  },
  {
   "cell_type": "code",
   "execution_count": 15,
   "id": "coordinate-running",
   "metadata": {
    "scrolled": true
   },
   "outputs": [
    {
     "name": "stdout",
     "output_type": "stream",
     "text": [
      "0.874695854167487\n"
     ]
    }
   ],
   "source": [
    "predicted_text = clf_neural_text.predict(x_text_test)\n",
    "result_softmax_text = pd.DataFrame( {'true_labels': y_text_test,'predicted_labels': predicted_text})\n",
    "result_softmax_text.to_csv('res_softmax_text.csv', sep = ',')\n",
    "\n",
    "score_text = accuracy_score(y_text_test, predicted_text)\n",
    "print(score_text)"
   ]
  }
 ],
 "metadata": {
  "kernelspec": {
   "display_name": "Python 3",
   "language": "python",
   "name": "python3"
  },
  "language_info": {
   "codemirror_mode": {
    "name": "ipython",
    "version": 3
   },
   "file_extension": ".py",
   "mimetype": "text/x-python",
   "name": "python",
   "nbconvert_exporter": "python",
   "pygments_lexer": "ipython3",
   "version": "3.9.0"
  }
 },
 "nbformat": 4,
 "nbformat_minor": 5
}
